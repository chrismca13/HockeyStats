{
 "cells": [
  {
   "cell_type": "code",
   "execution_count": 1,
   "id": "4b38dfb3-e0ce-49a4-87b9-4f98b404226b",
   "metadata": {},
   "outputs": [],
   "source": [
    "import pandas as pd\n",
    "pd.set_option('display.max_columns', None)\n",
    "\n",
    "import warnings\n",
    "def fxn():\n",
    "    warnings.warn(\"deprecated\", DeprecationWarning)\n",
    "with warnings.catch_warnings():\n",
    "    warnings.simplefilter(\"ignore\")\n",
    "    fxn()"
   ]
  },
  {
   "cell_type": "code",
   "execution_count": 2,
   "id": "1f940010-c6de-48b6-b962-abf0354dbfc7",
   "metadata": {},
   "outputs": [],
   "source": [
    "gg_team_ids = [1843, 692, 4622, 4818]\n",
    "gg_team_names = ['Gang Green 1', 'Gang Green 2', 'Gang Green 3', 'Gang Green 4']\n",
    "\n",
    "season_ids = list(range(10, 70))\n",
    "season_ids.append(0)"
   ]
  },
  {
   "cell_type": "code",
   "execution_count": 3,
   "id": "7843ed95-3791-4470-83b5-e4b464cff254",
   "metadata": {},
   "outputs": [],
   "source": [
    "team_dim = pd.DataFrame(zip(gg_team_ids, gg_team_names), columns = ['TeamID', 'Team Name'])"
   ]
  },
  {
   "cell_type": "code",
   "execution_count": null,
   "id": "f955a6f8-b8e3-4a3e-95dc-a543b5e003b6",
   "metadata": {},
   "outputs": [],
   "source": [
    "team_id = 692\n",
    "url = 'https://stats.sharksice.timetoscore.com/display-schedule?team='+str(team_id)+'&season=' + str(50) + '&league=27&stat_class=1'\n",
    "\n",
    "# Establish base data frame so we can later append onto it\n",
    "df = pd.read_html(url)\n",
    "df[1].columns = df[1].columns.droplevel()\n",
    "\n",
    "df_main = df[1].iloc[0:0]\n",
    "season_dim = pd.read_csv('OaklandHockeySeasonDim.csv')\n",
    "\n",
    "\n",
    "# Loop through all 4 team ids first, then every season afterwards:\n",
    "for team_id in gg_team_ids:\n",
    "\n",
    "    for season_id in season_dim['SeasonID']:\n",
    "        url = 'https://stats.sharksice.timetoscore.com/display-schedule?team='+str(team_id)+'&season=' + str(season_id) + '&league=27&stat_class=1'\n",
    "\n",
    "        try:\n",
    "            df = pd.read_html(url)\n",
    "            season_dim = pd.read_csv('OaklandHockeySeasonDim.csv')\n",
    "            # Remove first layer of column (that just say says 'Game Results')\n",
    "            #df[0].columns = df[0].columns.droplevel()\n",
    "            #df[0].head()\n",
    "\n",
    "            df[1].columns = df[1].columns.droplevel()\n",
    "            df[1]['SeasonID'] = int(season_id)\n",
    "            df[1]['TeamID'] = int(team_id)\n",
    "            \n",
    "\n",
    "            df_main = pd.concat([df_main, df[1]])\n",
    "            #df_main['SeasonID'] = season_id\n",
    "\n",
    "        except:\n",
    "            pass"
   ]
  },
  {
   "cell_type": "code",
   "execution_count": null,
   "id": "83155779-e9d3-4ca1-a4a0-84ce02cf0f19",
   "metadata": {},
   "outputs": [],
   "source": [
    "df_main['SeasonID'] = df_main['SeasonID'].astype(int) \n",
    "df_main['TeamID'] = df_main['TeamID'].astype(int) "
   ]
  },
  {
   "cell_type": "code",
   "execution_count": null,
   "id": "03cf8991-eed4-4bab-ad0d-baa647ca30ea",
   "metadata": {},
   "outputs": [],
   "source": [
    "df_final = pd.merge(left = df_main, right = season_dim, how = 'left', left_on = 'SeasonID', right_on = 'SeasonID')"
   ]
  },
  {
   "cell_type": "code",
   "execution_count": null,
   "id": "ba4f0c5b-e3e9-440e-9a8d-3d9c797dfbd3",
   "metadata": {},
   "outputs": [],
   "source": [
    "# Simple data cleaning\n",
    "\n",
    "col = ['Name', '#', 'GP', 'Goals', 'Ass.', 'PPG', 'PPA', 'SHG', 'SHA', 'GWG',\n",
    "       'GWA', 'PSG', 'ENG',  'PIMs', 'Hat', 'Pts', 'SeasonID', 'Season', 'Year', 'TeamID',\n",
    "       'SeasonName']\n",
    "\n",
    "df_final = df_final[col]\n",
    "#df_final['Year'] = df_final['Year'].astype(int)\n",
    "df_final['GPG'] = df_final['Goals'] / df_final['GP']\n",
    "df_final['Pts_PG'] = df_final['Pts'] / df_final['GP']\n",
    "\n",
    "df_final['SeasonID'] = df_final['SeasonID'].astype(int) \n",
    "df_final['TeamID'] = df_final['TeamID'].astype(int) "
   ]
  },
  {
   "cell_type": "code",
   "execution_count": null,
   "id": "2cf452fc-6b2f-479f-a7d8-41eff365beca",
   "metadata": {},
   "outputs": [],
   "source": [
    "# Get team name from Team ID\n",
    "\n",
    "df_final_2 = pd.merge(left = df_final, right = team_dim, how = 'left', left_on = 'TeamID', right_on = 'TeamID')\n",
    "df_final_2"
   ]
  },
  {
   "cell_type": "code",
   "execution_count": null,
   "id": "13f626f4-89c4-48d7-85f9-e2a45b13f39d",
   "metadata": {},
   "outputs": [],
   "source": []
  }
 ],
 "metadata": {
  "kernelspec": {
   "display_name": "Python 3 (ipykernel)",
   "language": "python",
   "name": "python3"
  },
  "language_info": {
   "codemirror_mode": {
    "name": "ipython",
    "version": 3
   },
   "file_extension": ".py",
   "mimetype": "text/x-python",
   "name": "python",
   "nbconvert_exporter": "python",
   "pygments_lexer": "ipython3",
   "version": "3.10.9"
  }
 },
 "nbformat": 4,
 "nbformat_minor": 5
}
