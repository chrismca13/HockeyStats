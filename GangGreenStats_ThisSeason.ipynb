{
 "cells": [
  {
   "cell_type": "markdown",
   "id": "aaefe294-a916-4008-b76a-3328e6196be5",
   "metadata": {},
   "source": [
    "### Oakland Hockey Division 5 - Current Season Stats\n",
    "Chris McAllister\n",
    "\n",
    "#### This notebook gathers all the Oakland Hockey Stats for all D5 Teams at Oakland Ice Center"
   ]
  },
  {
   "cell_type": "code",
   "execution_count": 1,
   "id": "8deecde0-f573-4358-b1f0-1afbd46a0fae",
   "metadata": {},
   "outputs": [],
   "source": [
    "# ! pip install jupyter_scheduler "
   ]
  },
  {
   "cell_type": "code",
   "execution_count": 2,
   "id": "4b38dfb3-e0ce-49a4-87b9-4f98b404226b",
   "metadata": {},
   "outputs": [],
   "source": [
    "# 1) Import libraries. All we need is Pandas\n",
    "import pandas as pd\n",
    "\n",
    "# Don't truncate dataframes (ie show every column)\n",
    "pd.set_option('display.max_columns', None)\n",
    "\n",
    "\n",
    "# Ignore any warning messages. \n",
    "import warnings\n",
    "warnings.filterwarnings('ignore')"
   ]
  },
  {
   "cell_type": "code",
   "execution_count": 3,
   "id": "1f940010-c6de-48b6-b962-abf0354dbfc7",
   "metadata": {},
   "outputs": [],
   "source": [
    "# 2) Create simple mapping table that converts the Team ID to a Team Name.\n",
    "d5_team_ids = [692, 3424, 4679, 2585, 4680, 4719, 4400]\n",
    "d5_team_names = ['Gang Green 2', 'Oakland Reapers', 'Silver Bullets 2', 'No Regretzkys', 'Sofa King Old', 'Lot Lizards', 'Silver Squids']\n",
    "\n",
    "team_dim = pd.DataFrame(zip(d5_team_ids, d5_team_names), columns = ['TeamID', 'Team Name'])"
   ]
  },
  {
   "cell_type": "code",
   "execution_count": 4,
   "id": "dccac0bf-2065-4145-af88-1c8a552ca452",
   "metadata": {},
   "outputs": [],
   "source": [
    "team_id_list = list(team_dim['TeamID'])\n",
    "team_name_list = list(team_dim['Team Name'])\n",
    "\n",
    "df_stats = []\n",
    "df_goalies = []\n",
    "df_team = []\n",
    "\n",
    "for i in team_id_list:\n",
    "\n",
    "    url = 'https://stats.sharksice.timetoscore.com/display-schedule?team='+str(i)+'&season=0&league=27&stat_class=1'\n",
    "    \n",
    "    df = pd.read_html(url)\n",
    "    \n",
    "    # stats\n",
    "    df[1].columns = df[1].columns.droplevel()\n",
    "    df[1]['TeamID'] = i\n",
    "    df_stats.append(df[1])\n",
    "    \n",
    "    # goalies\n",
    "    df[2].columns = df[2].columns.droplevel()\n",
    "    df[2]['TeamID'] = i\n",
    "    df_goalies.append(df[2])\n",
    "    \n",
    "    # team\n",
    "    df[3].columns = df[3].columns.droplevel()\n",
    "    df[3]['TeamID'] = i\n",
    "    df_team.append(df[3])\n",
    "    \n",
    "df_stats_final = pd.concat(df_stats)\n",
    "df_goalies_final = pd.concat(df_goalies)\n",
    "df_team_final = pd.concat(df_team)\n",
    "\n",
    "# Join to get team names from Team ID\n",
    "\n",
    "df_stats_final = pd.merge(left = df_stats_final, right = team_dim, on = 'TeamID')\n",
    "df_goalies_final = pd.merge(left = df_goalies_final, right = team_dim, on = 'TeamID')\n",
    "df_team_final = pd.merge(left = df_team_final, right = team_dim, on = 'TeamID')"
   ]
  },
  {
   "cell_type": "code",
   "execution_count": 5,
   "id": "cefb5ab8-b06e-4231-a853-347bc555f0d3",
   "metadata": {},
   "outputs": [],
   "source": [
    "df_stats_final.to_csv('currentseason_stats.csv', index = False)"
   ]
  },
  {
   "cell_type": "code",
   "execution_count": 6,
   "id": "8035f843-e656-417d-8e92-8cbe9ede17a2",
   "metadata": {},
   "outputs": [],
   "source": [
    "\n",
    "df_goalies_final.to_csv('currentseason_goalies.csv', index = False)"
   ]
  },
  {
   "cell_type": "code",
   "execution_count": 7,
   "id": "40ade691-1950-49db-a921-96d1db5fcb25",
   "metadata": {},
   "outputs": [],
   "source": [
    "\n",
    "df_team_final.to_csv('currentseason_team.csv', index = False)"
   ]
  },
  {
   "cell_type": "code",
   "execution_count": null,
   "id": "368ca8f0-3027-452a-8907-0d5259a7c3e3",
   "metadata": {},
   "outputs": [],
   "source": []
  }
 ],
 "metadata": {
  "kernelspec": {
   "display_name": "Python 3 (ipykernel)",
   "language": "python",
   "name": "python3"
  },
  "language_info": {
   "codemirror_mode": {
    "name": "ipython",
    "version": 3
   },
   "file_extension": ".py",
   "mimetype": "text/x-python",
   "name": "python",
   "nbconvert_exporter": "python",
   "pygments_lexer": "ipython3",
   "version": "3.10.9"
  }
 },
 "nbformat": 4,
 "nbformat_minor": 5
}
